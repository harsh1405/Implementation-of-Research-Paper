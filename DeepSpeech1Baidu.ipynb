{
 "cells": [
  {
   "cell_type": "code",
   "execution_count": null,
   "metadata": {
    "collapsed": true
   },
   "outputs": [],
   "source": [
    "Deep Speech 1 by Baidu\n",
    "Link to Dataset: http://www.openslr.org/resources/12/train-other-500.tar.gz"
   ]
  },
  {
   "cell_type": "code",
   "execution_count": 20,
   "metadata": {
    "collapsed": false
   },
   "outputs": [],
   "source": [
    "import os\n",
    "import sox\n",
    "import fnmatch\n",
    "from scipy.io import wavfile\n",
    "from scipy import signal\n",
    "import tensorflow as tf\n",
    "import random\n",
    "import numpy as np\n",
    "import matplotlib.pyplot as plt\n",
    "%matplotlib inline\n",
    "\n",
    "import keras\n",
    "from keras import backend as K\n",
    "from keras.models import Model\n",
    "from keras.preprocessing.sequence import pad_sequences\n",
    "from keras.layers import Input, Bidirectional, Dense, Lambda, Dropout, TimeDistributed\n",
    "from keras.layers.recurrent import SimpleRNN\n",
    "from keras.optimizers import Nadam\n",
    "from keras.utils import to_categorical\n",
    "from keras.callbacks import History\n",
    "random.seed(10)"
   ]
  },
  {
   "cell_type": "code",
   "execution_count": 2,
   "metadata": {
    "collapsed": true
   },
   "outputs": [],
   "source": [
    "source_dir=\"/home/harsh1405/LibriSpeech/\"\n",
    "target_dir=\"/home/harsh1405/LibriData/\""
   ]
  },
  {
   "cell_type": "code",
   "execution_count": 3,
   "metadata": {
    "collapsed": true
   },
   "outputs": [],
   "source": [
    "#Making a list of iterables for .wav files\n",
    "z=[]\n",
    "for file in os.listdir(target_dir):\n",
    "    if '.wav' in file:\n",
    "        z.append(file)"
   ]
  },
  {
   "cell_type": "code",
   "execution_count": 8,
   "metadata": {
    "collapsed": false
   },
   "outputs": [],
   "source": [
    "#Training Data\n",
    "audio_frequency=[]\n",
    "audio=[]\n",
    "sample_frequency=[]\n",
    "sample_time=[]\n",
    "spectrograms=np.ndarray((20000,), dtype='object')\n",
    "txt=[]\n",
    "count=0\n",
    "for file in z[:20000]:\n",
    "    af, a=wavfile.read(target_dir+file)\n",
    "    audio_frequency.append(af)\n",
    "    audio.append(a)\n",
    "    sf, st, spectro=signal.spectrogram(a, af)\n",
    "    sample_frequency.append(sf)\n",
    "    sample_time.append(st)\n",
    "    spectrograms[count]=spectro\n",
    "    count+=1\n",
    "    txt.append(file.split('.')[0])"
   ]
  },
  {
   "cell_type": "code",
   "execution_count": 9,
   "metadata": {
    "collapsed": true
   },
   "outputs": [],
   "source": [
    "#Validation Data\n",
    "audio_frequency_valid=[]\n",
    "audio_valid=[]\n",
    "sample_frequency_valid=[]\n",
    "sample_time_valid=[]\n",
    "spectrograms_valid=np.ndarray((5000,), dtype='object')\n",
    "txt_valid=[]\n",
    "count=0\n",
    "for file in z[21000:26000]:\n",
    "    af, a=wavfile.read(target_dir+file)\n",
    "    audio_frequency_valid.append(af)\n",
    "    audio_valid.append(a)\n",
    "    sf, st, spectro=signal.spectrogram(a, af)\n",
    "    sample_frequency_valid.append(sf)\n",
    "    sample_time_valid.append(st)\n",
    "    spectrograms_valid[count]=spectro\n",
    "    count+=1\n",
    "    txt_valid.append(file.split('.')[0])"
   ]
  },
  {
   "cell_type": "code",
   "execution_count": 10,
   "metadata": {
    "collapsed": false
   },
   "outputs": [],
   "source": [
    "#Adding context frames\n",
    "for i in range(10000):\n",
    "    x=np.zeros((7,spectrograms[i].shape[1]))\n",
    "    spectrograms[i]=np.concatenate((x, spectrograms[i], x))\n",
    "for i in range(1000):\n",
    "    x=np.zeros((7,spectrograms_valid[i].shape[1]))\n",
    "    spectrograms_valid[i]=np.concatenate((x, spectrograms_valid[i], x))"
   ]
  },
  {
   "cell_type": "code",
   "execution_count": 11,
   "metadata": {
    "collapsed": false
   },
   "outputs": [
    {
     "data": {
      "image/png": "[encoded data removed]",
      "text/plain": [
       "<Figure size 600x400 with 1 Axes>"
      ]
     },
     "metadata": {},
     "output_type": "display_data"
    }
   ],
   "source": [
    "#Graph of one of the samples in audio\n",
    "audio[0] = audio[0] / (2.**15)\n",
    "samplePoints = float(audio[0].shape[0])\n",
    "signalDuration =  audio[0].shape[0] / audio_frequency[0]\n",
    "timeArray = np.arange(0, samplePoints, 1)\n",
    "timeArray = timeArray / audio_frequency[0]\n",
    "timeArray = timeArray * 1000\n",
    "plt.plot(timeArray, audio[0], color='G')\n",
    "plt.xlabel('Time (ms)')\n",
    "plt.ylabel('Amplitude')\n",
    "plt.show()"
   ]
  },
  {
   "cell_type": "code",
   "execution_count": 12,
   "metadata": {
    "collapsed": true
   },
   "outputs": [],
   "source": [
    "def text_to_encoded(text_file):\n",
    "    text=[]\n",
    "    for file in text_file:\n",
    "        file=file+\".txt\"\n",
    "        with open(os.path.join(target_dir, file), \"r\") as fin:\n",
    "            for line in fin:\n",
    "                text.append(line)\n",
    "    \n",
    "    for i in range(len(text_file)):\n",
    "        z=text[i]\n",
    "        z=z.replace(\".\",\"\")\n",
    "        z=z.replace(\",\",\"\")\n",
    "        z=z.replace(\";\",\"\")\n",
    "        z=z.replace(\":\",\"\")\n",
    "        z=z.replace(\"-\",\"\")\n",
    "        z=z.replace(\"?\",\"\")\n",
    "        z=z.replace(\"'\",\"\")\n",
    "        z=z.replace('\"', '')\n",
    "        z=z.replace(\" \", \"  \")\n",
    "        z=z.split(\" \")\n",
    "        text[i]=z\n",
    "\n",
    "    space_token=\"SPACE_TOKEN\"\n",
    "    space_index=0\n",
    "    alphabets={\"a\":1, \"b\":2, \"c\":3, \"d\":4, \"e\":5, \"f\":6, \"g\":7, \"h\":8, \"i\":9, \"j\":10, \"k\":11, \"l\":12, \"m\":13, \"n\":14, \\\n",
    "               \"o\":15, \"p\":16, \"q\":17, \"r\":18, \"s\":19, \"t\":20, \"u\":21, \"v\":22, \"w\":23, \"x\":24, \"y\":25, \"z\":26}\n",
    "    for i in range(len(text_file)):\n",
    "        text[i]=np.hstack([space_token if wo==\"\" else list(wo) for wo in text[i]])\n",
    "        text[i]=np.asarray([space_index if ch==space_token else alphabets[ch] for ch in text[i]])\n",
    "    return text"
   ]
  },
  {
   "cell_type": "code",
   "execution_count": 30,
   "metadata": {
    "collapsed": true
   },
   "outputs": [],
   "source": [
    "def label_to_text(pred):\n",
    "    result=[]\n",
    "    for p in pred:\n",
    "        if p==0:\n",
    "            result.append(\" \")\n",
    "        elif p in alphabets.values:\n",
    "            for alpha, no in alphabets.items():\n",
    "                if p==no:\n",
    "                    results.append(alpha)\n",
    "        else:\n",
    "            results.append(\"'\") #To show blank generated for ctc label\n",
    "    \"\".join(result)\n",
    "    return result"
   ]
  },
  {
   "cell_type": "code",
   "execution_count": 13,
   "metadata": {
    "collapsed": true
   },
   "outputs": [],
   "source": [
    "#Transcriptions encoded into integers\n",
    "encoded_input_label=text_to_encoded(txt)\n",
    "encoded_validation_label=text_to_encoded(txt_valid)"
   ]
  },
  {
   "cell_type": "code",
   "execution_count": 14,
   "metadata": {
    "collapsed": true
   },
   "outputs": [],
   "source": [
    "class generate_data(object):\n",
    "    def __init__(self, spectrograms, encoded_input_label, batch_size):\n",
    "        self.spectro=spectrograms\n",
    "        self.encod_input_trans=encoded_input_label\n",
    "        self.batch_size=batch_size\n",
    "        self.index=0\n",
    "        self.max_timesteps=max([spect.shape[1] for spect in self.spectro])\n",
    "        self.max_sequence_trans=max([seq.shape[0] for seq in self.encod_input_trans])\n",
    "        \n",
    "    def get_batch(self, ind):\n",
    "        batch_x=self.spectro[ind*self.batch_size:(ind+1)*self.batch_size]\n",
    "        batch_y=self.encod_input_trans[ind*self.batch_size:(ind+1)*self.batch_size]\n",
    "        #Getting input data\n",
    "        x_val = [spect.shape[1] for spect in batch_x] #For max. length of timeseries\n",
    "        max_x_val=max(x_val)\n",
    "        X_data=np.array([self.make_specto_for_input(spect, max_x_val) for spect in batch_x])\n",
    "        #Getting output data\n",
    "        y_val=[seq.shape[0] for seq in batch_y] #For max length of a sequence\n",
    "        max_y_val=max(y_val) \n",
    "        Y_data=np.array([self.make_seq_for_input(seq, max_y_val) for seq in batch_y])\n",
    "        #For CTC\n",
    "        input_length=np.array(x_val)\n",
    "        label_length=np.array(y_val)\n",
    "            \n",
    "        inps = {'inp_data':X_data, 'out_labels':Y_data, 'inp_len':input_length, 'out_len':label_length}\n",
    "        outps= {'ctc':np.zeros([self.batch_size])}\n",
    "        return (inps, outps)\n",
    "        \n",
    "    def next_batch(self):\n",
    "        while True: #For no StopIteration\n",
    "            if (self.index+1)*self.batch_size >= self.spectro.size:\n",
    "                self.index=0\n",
    "            ret=self.get_batch(self.curr_index)\n",
    "            self.index+=1\n",
    "            yield ret\n",
    "            \n",
    "    def make_specto_for_input(self, specto, padlength=None):\n",
    "        if padlength is None:\n",
    "            padlength=self.max_timesteps\n",
    "        specto=pad_sequences(specto, maxlen=padlength, dtype='float', padding='post', truncating='post')\n",
    "        specto=specto.T\n",
    "        return specto\n",
    "        \n",
    "    def make_seq_for_input(self, seq, padlength=None):\n",
    "        if padlength is None:\n",
    "            padlength=self.max_sequence_trans\n",
    "        while(len(seq)<padlength):\n",
    "            seq=np.append(seq, 0)\n",
    "        return seq"
   ]
  },
  {
   "cell_type": "code",
   "execution_count": 23,
   "metadata": {
    "collapsed": false
   },
   "outputs": [],
   "source": [
    "def ctc_lambda(args):    \n",
    "    predictions, labels, input_length, label_length = args\n",
    "    return K.ctc_batch_cost(labels, predictions, input_length, label_length)\n",
    "def ctc(labels, predictions):\n",
    "    return predictions\n",
    "#Model\n",
    "inp_s=Input(shape=(None, 143), name='inp_data')\n",
    "model=TimeDistributed(Dense(512, activation='relu'))(inp_s)\n",
    "model=Dropout(0.05)(model)\n",
    "model=TimeDistributed(Dense(512, activation='relu'))(model)\n",
    "model=Dropout(0.05)(model)\n",
    "model=TimeDistributed(Dense(512, activation='relu'))(model)\n",
    "model=Dropout(0.05)(model)\n",
    "model=Bidirectional(SimpleRNN(512, return_sequences=True), merge_mode='sum')(model)\n",
    "model=TimeDistributed(Dense(512, activation='relu'))(model)\n",
    "model=Dropout(0.05)(model)\n",
    "predictions=TimeDistributed(Dense(28, activation='softmax'))(model)\n",
    "\n",
    "#CTC Layers in model\n",
    "labels=Input(shape=[None,], dtype='int32', name='out_labels')\n",
    "input_length=Input(shape=[1], dtype='int32', name='inp_len')\n",
    "output_length=Input(shape=[1], dtype='int32', name='out_len')\n",
    "output_loss=Lambda(ctc_lambda, output_shape=(1,), name='ctc')([predictions, labels, input_length, output_length])\n",
    "\n",
    "model=Model(inputs=[inp_s, labels, input_length, output_length], outputs=output_loss)"
   ]
  },
  {
   "cell_type": "code",
   "execution_count": 24,
   "metadata": {
    "collapsed": false
   },
   "outputs": [],
   "source": [
    "optimize=Nadam() #For Nesterov's gradient on Adam optimizer\n",
    "model.compile(loss=ctc, optimizer=optimize)\n",
    "train_data=generate_data(spectrograms, encoded_input_label, batch_size=100)\n",
    "valid_data=generate_data(spectrograms_valid, encoded_validation_label, batch_size=100)\n",
    "#predict_function = K.function([model.get_layer('inp_data').input, K.learning_phase()], [model.get_layer('ctc').input[0]])"
   ]
  },
  {
   "cell_type": "code",
   "execution_count": 25,
   "metadata": {
    "collapsed": false,
    "scrolled": true
   },
   "outputs": [
    {
     "name": "stdout",
     "output_type": "stream",
     "text": [
      "Epoch 1/3\n",
      "100/100 [==============================] - 397s 4s/step - loss: 654.6076 - val_loss: 538.0319\n",
      "Epoch 2/3\n",
      "100/100 [==============================] - 396s 4s/step - loss: 536.5839 - val_loss: 510.1798\n",
      "Epoch 3/3\n",
      "100/100 [==============================] - 395s 4s/step - loss: 515.9286 - val_loss: 501.4065\n"
     ]
    },
    {
     "data": {
      "text/plain": [
       "<keras.callbacks.History at 0x7f07a86f2710>"
      ]
     },
     "execution_count": 25,
     "metadata": {},
     "output_type": "execute_result"
    }
   ],
   "source": [
    "#model=load_weights('/home/harsh1405/DSBaidu_model.h5')\n",
    "model.fit_generator(generator=train_data.next_batch(), steps_per_epoch=200, epochs=3, validation_data=\\\n",
    "                    valid_data.next_batch(), validation_steps=50,verbose=1)"
   ]
  },
  {
   "cell_type": "code",
   "execution_count": 26,
   "metadata": {
    "collapsed": false
   },
   "outputs": [],
   "source": [
    "model.save_weights('/home/harsh1405/DSBaidu_model_weights.h5')"
   ]
  },
  {
   "cell_type": "code",
   "execution_count": null,
   "metadata": {
    "collapsed": true
   },
   "outputs": [],
   "source": [
    "np.save(spectrograms)"
   ]
  }
 ],
 "metadata": {
  "kernelspec": {
   "display_name": "Python 3",
   "language": "python",
   "name": "python3"
  },
  "language_info": {
   "codemirror_mode": {
    "name": "ipython",
    "version": 3
   },
   "file_extension": ".py",
   "mimetype": "text/x-python",
   "name": "python",
   "nbconvert_exporter": "python",
   "pygments_lexer": "ipython3",
   "version": "3.5.5"
  }
 },
 "nbformat": 4,
 "nbformat_minor": 2
}
